{
 "cells": [
  {
   "cell_type": "code",
   "execution_count": 1,
   "metadata": {
    "collapsed": false
   },
   "outputs": [
    {
     "name": "stdout",
     "output_type": "stream",
     "text": [
      "(784, 50000)\n",
      "(50000,)\n",
      "(1, 50000)\n",
      "(10, 50000)\n",
      "[5 0 4 ..., 8 4 8]\n"
     ]
    }
   ],
   "source": [
    "import numpy as np\n",
    "import matplotlib.pyplot as plt\n",
    "import pickle as cPickle\n",
    "import gzip\n",
    "\n",
    "data = gzip.open(\"mnist.pkl.gz\")\n",
    "train_data,  validation_data, test_data = cPickle.load(data,encoding=\"latin1\")\n",
    "X=train_data[0]\n",
    "X=X.T\n",
    "Y=train_data[1]\n",
    "Y=Y.T\n",
    "print(X.shape)\n",
    "print(Y.shape)\n",
    "Y=Y.reshape(1,Y.shape[0])\n",
    "print(Y.shape)\n",
    "Y=np.squeeze(Y)\n",
    "n_Y=np.max(Y)+1\n",
    "y=np.eye(n_Y)[Y]\n",
    "Y=y.T\n",
    "print(Y.shape)\n",
    "print(np.argmax(Y,axis=0))"
   ]
  },
  {
   "cell_type": "code",
   "execution_count": 2,
   "metadata": {
    "collapsed": true
   },
   "outputs": [],
   "source": [
    "def softmax(z):\n",
    "    cache=z\n",
    "    t=np.exp(z)\n",
    "    q=np.sum(t,axis=0,keepdims=True)\n",
    "    a=np.divide(t,q)\n",
    "    return a,cache"
   ]
  },
  {
   "cell_type": "code",
   "execution_count": 3,
   "metadata": {
    "collapsed": true
   },
   "outputs": [],
   "source": [
    "def tanh(z):\n",
    "    cache=z\n",
    "    a=np.tanh(z)\n",
    "    return a,cache"
   ]
  },
  {
   "cell_type": "code",
   "execution_count": 4,
   "metadata": {
    "collapsed": true
   },
   "outputs": [],
   "source": [
    "def initialise_parameters(layer_dims):\n",
    "    parameters = {}\n",
    "    L = len(layer_dims) \n",
    "    for l in range(1,L):\n",
    "        parameters[\"W\" + str(l)] = np.random.randn(layer_dims[l],layer_dims[l-1])*0.01\n",
    "        parameters[\"b\" + str(l)] = np.zeros((layer_dims[l],1))\n",
    "    \n",
    "    return parameters"
   ]
  },
  {
   "cell_type": "code",
   "execution_count": 5,
   "metadata": {
    "collapsed": false
   },
   "outputs": [
    {
     "name": "stdout",
     "output_type": "stream",
     "text": [
      "(125, 784)\n",
      "(125, 1)\n",
      "(10, 125)\n",
      "(10, 1)\n"
     ]
    }
   ],
   "source": [
    "layer_dims=[X.shape[0],125,Y.shape[0]]\n",
    "parameters=initialise_parameters(layer_dims)\n",
    "print(parameters[\"W1\"].shape)\n",
    "print(parameters[\"b1\"].shape)\n",
    "print(parameters[\"W2\"].shape)\n",
    "print(parameters[\"b2\"].shape)"
   ]
  },
  {
   "cell_type": "code",
   "execution_count": 6,
   "metadata": {
    "collapsed": true
   },
   "outputs": [],
   "source": [
    "def forward_prop(X,parameters):\n",
    "    cache={}\n",
    "    W1=parameters[\"W1\"]\n",
    "    b1=parameters[\"b1\"]\n",
    "    W2=parameters[\"W2\"]\n",
    "    b2=parameters[\"b2\"]\n",
    "    Z1=np.dot(W1,X)+b1\n",
    "    A1,cache[\"Z1\"]=tanh(Z1)\n",
    "    Z2=np.dot(W2,A1)+b2\n",
    "    A2,cache[\"Z2\"]=softmax(Z2)\n",
    "    cache[\"A1\"]=A1\n",
    "    return A2,cache\n"
   ]
  },
  {
   "cell_type": "code",
   "execution_count": 7,
   "metadata": {
    "collapsed": true
   },
   "outputs": [],
   "source": [
    "def compute_cost(A2,Y):\n",
    "    m=Y.shape[1]\n",
    "    cost=-1/m*np.sum(np.multiply(Y,np.log(A2)))\n",
    "    cost=np.squeeze(cost)\n",
    "    return cost"
   ]
  },
  {
   "cell_type": "code",
   "execution_count": 8,
   "metadata": {
    "collapsed": true
   },
   "outputs": [],
   "source": [
    "def back_prop(X,Y,cache,parameters,A2):\n",
    "    Z1=cache['Z1']\n",
    "    A1=cache['A1']\n",
    "    W2=parameters['W2']\n",
    "    grads={}\n",
    "    m=Y.shape[1]\n",
    "    dZ2=A2-Y\n",
    "    dW2=1/m*np.dot(dZ2,A1.T)\n",
    "    db2=1/m*np.sum(dZ2,axis=1,keepdims=True)\n",
    "    dZ1=np.multiply(np.matmul(W2.T,dZ2),(1-np.power(np.tanh(Z1),2)))\n",
    "    dW1=1/m*np.matmul(dZ1,X.T)\n",
    "    db1=1/m*np.sum(dZ1,axis=1,keepdims=True)\n",
    "    grads={'dW2':dW2,'db2':db2,'dW1':dW1,'db1':db1}\n",
    "    return grads"
   ]
  },
  {
   "cell_type": "code",
   "execution_count": 9,
   "metadata": {
    "collapsed": true
   },
   "outputs": [],
   "source": [
    "def update_parameters(parameters,grads,learning_rate):\n",
    "    W1=parameters[\"W1\"]\n",
    "    b1=parameters[\"b1\"]\n",
    "    W2=parameters[\"W2\"]\n",
    "    b2=parameters[\"b2\"]\n",
    "    dW1=grads[\"dW1\"]\n",
    "    dW2=grads[\"dW2\"]\n",
    "    db1=grads[\"db1\"]\n",
    "    db2=grads[\"db2\"]\n",
    "    W1=W1-learning_rate*dW1\n",
    "    W2=W2-learning_rate*dW2\n",
    "    b1=b1-learning_rate*db1\n",
    "    b2=b2-learning_rate*db2\n",
    "    parameters={'W1':W1,'W2':W2,'b1':b1,'b2':b2}\n",
    "    return parameters"
   ]
  },
  {
   "cell_type": "code",
   "execution_count": 10,
   "metadata": {
    "collapsed": true
   },
   "outputs": [],
   "source": [
    "def accuracy(X,parameters,Y):\n",
    "    Q=np.argmax(Y,axis=0)\n",
    "    R,_=forward_prop(X,parameters)\n",
    "    R=np.argmax(R,axis=0)\n",
    "    count=0\n",
    "    for i in range(Y.shape[1]):\n",
    "        if Q[i]==R[i]:\n",
    "            count+=1\n",
    "    accuracy=count/Y.shape[1]*100\n",
    "    return accuracy"
   ]
  },
  {
   "cell_type": "code",
   "execution_count": 11,
   "metadata": {
    "collapsed": true
   },
   "outputs": [],
   "source": [
    "def model(X,Y,layer_dims,num_iterations,learning_rate):\n",
    "    costs=[]\n",
    "    acc =[]\n",
    "    parameters=initialise_parameters(layer_dims)\n",
    "    for i in range(num_iterations):\n",
    "        A2,cache=forward_prop(X,parameters)\n",
    "        cost=compute_cost(A2,Y)\n",
    "        grads=back_prop(X,Y,cache,parameters,A2)\n",
    "        acc.append(accuracy(X,parameters,Y))\n",
    "        parameters=update_parameters(parameters,grads,learning_rate)\n",
    "        costs.append(cost)\n",
    "        if i % 100 == 0:\n",
    "            print(\"After iteration %i cost: %f and accuracy:%f\" %(i,cost,accuracy(X,parameters,Y)))\n",
    "    \n",
    "    return parameters,costs,acc       "
   ]
  },
  {
   "cell_type": "code",
   "execution_count": 12,
   "metadata": {
    "collapsed": false
   },
   "outputs": [
    {
     "name": "stdout",
     "output_type": "stream",
     "text": [
      "After iteration 0 cost: 2.303553 and accuracy:28.328000\n",
      "After iteration 100 cost: 0.422131 and accuracy:88.662000\n",
      "After iteration 200 cost: 0.328504 and accuracy:90.702000\n",
      "After iteration 300 cost: 0.291378 and accuracy:91.720000\n",
      "After iteration 400 cost: 0.265887 and accuracy:92.424000\n",
      "After iteration 500 cost: 0.244653 and accuracy:93.062000\n",
      "After iteration 600 cost: 0.225826 and accuracy:93.588000\n",
      "After iteration 700 cost: 0.209003 and accuracy:94.048000\n",
      "After iteration 800 cost: 0.194101 and accuracy:94.488000\n",
      "After iteration 900 cost: 0.180987 and accuracy:94.848000\n",
      "After iteration 1000 cost: 0.169440 and accuracy:95.176000\n",
      "After iteration 1100 cost: 0.159218 and accuracy:95.454000\n",
      "After iteration 1200 cost: 0.150106 and accuracy:95.720000\n",
      "After iteration 1300 cost: 0.141927 and accuracy:95.948000\n",
      "After iteration 1400 cost: 0.134540 and accuracy:96.162000\n"
     ]
    }
   ],
   "source": [
    "parameters,costs,accuracies=model(X,Y,layer_dims,num_iterations=1500,learning_rate=0.3)"
   ]
  },
  {
   "cell_type": "code",
   "execution_count": 13,
   "metadata": {
    "collapsed": false
   },
   "outputs": [
    {
     "data": {
      "image/png": "[encoded data removed]",
      "text/plain": [
       "<matplotlib.figure.Figure at 0x7fa7da01cb00>"
      ]
     },
     "metadata": {},
     "output_type": "display_data"
    },
    {
     "data": {
      "image/png": "[encoded data removed]",
      "text/plain": [
       "<matplotlib.figure.Figure at 0x7fa7da01c278>"
      ]
     },
     "metadata": {},
     "output_type": "display_data"
    }
   ],
   "source": [
    "plt.plot(costs,color=\"green\")\n",
    "plt.xlabel('Number of Iterations')\n",
    "plt.ylabel('Cost')\n",
    "plt.title('Cost curve')\n",
    "plt.show()\n",
    "plt.plot(accuracies,color=\"blue\")\n",
    "plt.xlabel('Number of Iterations')\n",
    "plt.ylabel('Accuracy')\n",
    "plt.title('Accuracy curve')\n",
    "plt.show()"
   ]
  },
  {
   "cell_type": "code",
   "execution_count": 15,
   "metadata": {
    "collapsed": false
   },
   "outputs": [],
   "source": [
    "train_accuracy=accuracy(X,parameters,Y)"
   ]
  },
  {
   "cell_type": "code",
   "execution_count": 16,
   "metadata": {
    "collapsed": false
   },
   "outputs": [
    {
     "name": "stdout",
     "output_type": "stream",
     "text": [
      "Final Accuracy on training set : 96.366 %\n"
     ]
    }
   ],
   "source": [
    "print(\"Final Accuracy on training set :\",train_accuracy,\"%\")    "
   ]
  },
  {
   "cell_type": "code",
   "execution_count": 17,
   "metadata": {
    "collapsed": false
   },
   "outputs": [
    {
     "name": "stdout",
     "output_type": "stream",
     "text": [
      "(1, 10000)\n",
      "(10, 10000)\n",
      "[7 2 1 ..., 4 5 6]\n"
     ]
    }
   ],
   "source": [
    "X_test = test_data[0]\n",
    "X_test = X_test.T\n",
    "Y_test=test_data[1]\n",
    "Y_test=Y_test.T\n",
    "Y_test=Y_test.reshape(1,Y_test.shape[0])\n",
    "print(Y_test.shape)\n",
    "Y_test=np.squeeze(Y_test)\n",
    "n_Y=np.max(Y_test)+1\n",
    "y=np.eye(n_Y)[Y_test]\n",
    "Y_test=y.T\n",
    "print(Y_test.shape)\n",
    "print(np.argmax(Y_test,axis=0))"
   ]
  },
  {
   "cell_type": "code",
   "execution_count": 19,
   "metadata": {
    "collapsed": false
   },
   "outputs": [
    {
     "name": "stdout",
     "output_type": "stream",
     "text": [
      "Accuracy on Test set :  95.99 %\n"
     ]
    }
   ],
   "source": [
    "test_accuracy=accuracy(X_test,parameters,Y_test)\n",
    "print(\"Accuracy on Test set : \",test_accuracy,\"%\")"
   ]
  },
  {
   "cell_type": "code",
   "execution_count": 21,
   "metadata": {
    "collapsed": true
   },
   "outputs": [],
   "source": [
    "def predict(X,parameters):\n",
    "    A,_=forward_prop(X,parameters)\n",
    "    A=np.argmax(A,axis=0)\n",
    "    return A"
   ]
  },
  {
   "cell_type": "code",
   "execution_count": 22,
   "metadata": {
    "collapsed": false
   },
   "outputs": [
    {
     "name": "stdout",
     "output_type": "stream",
     "text": [
      "It is a  2\n"
     ]
    },
    {
     "data": {
      "image/png": "[encoded data removed]",
      "text/plain": [
       "<matplotlib.figure.Figure at 0x7fa7faa24f28>"
      ]
     },
     "metadata": {},
     "output_type": "display_data"
    }
   ],
   "source": [
    "import scipy\n",
    "from scipy import ndimage\n",
    "from PIL import Image\n",
    "img = Image.open('2.jpg').convert('L')\n",
    "img.save('greyscale-2.png')\n",
    "fname=\"greyscale-2.png\"\n",
    "image = np.array(ndimage.imread(fname, flatten=False))\n",
    "#print(image.shape)\n",
    "image = scipy.misc.imresize(image, size=(28,28)).reshape((28*28,1))\n",
    "#print(image.shape)\n",
    "c=predict(image,parameters)\n",
    "print(\"It is a \",np.squeeze(c))\n",
    "plt.imshow(img)\n",
    "plt.show()"
   ]
  },
  {
   "cell_type": "code",
   "execution_count": 23,
   "metadata": {
    "collapsed": false
   },
   "outputs": [
    {
     "name": "stdout",
     "output_type": "stream",
     "text": [
      "It is a  0\n"
     ]
    },
    {
     "data": {
      "image/png": "[encoded data removed]",
      "text/plain": [
       "<matplotlib.figure.Figure at 0x7fa7fa9d0828>"
      ]
     },
     "metadata": {},
     "output_type": "display_data"
    }
   ],
   "source": [
    "img = Image.open('0(1).jpg').convert('L')\n",
    "img.save('greyscale-01.png')\n",
    "fname=\"greyscale-01.png\"\n",
    "image = np.array(ndimage.imread(fname, flatten=False))\n",
    "#print(image.shape)\n",
    "image = scipy.misc.imresize(image, size=(28,28)).reshape((28*28,1))\n",
    "#print(image.shape)\n",
    "c=predict(image,parameters)\n",
    "print(\"It is a \",np.squeeze(c))\n",
    "plt.imshow(img)\n",
    "plt.show()"
   ]
  },
  {
   "cell_type": "code",
   "execution_count": null,
   "metadata": {
    "collapsed": true
   },
   "outputs": [],
   "source": []
  }
 ],
 "metadata": {
  "kernelspec": {
   "display_name": "Python 3",
   "language": "python",
   "name": "python3"
  },
  "language_info": {
   "codemirror_mode": {
    "name": "ipython",
    "version": 3
   },
   "file_extension": ".py",
   "mimetype": "text/x-python",
   "name": "python",
   "nbconvert_exporter": "python",
   "pygments_lexer": "ipython3",
   "version": "3.6.6"
  }
 },
 "nbformat": 4,
 "nbformat_minor": 2
}
