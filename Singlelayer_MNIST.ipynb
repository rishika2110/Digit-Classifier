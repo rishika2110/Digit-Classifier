{
 "cells": [
  {
   "cell_type": "code",
   "execution_count": 1,
   "metadata": {
    "collapsed": false
   },
   "outputs": [
    {
     "name": "stdout",
     "output_type": "stream",
     "text": [
      "(784, 50000)\n",
      "(50000,)\n",
      "(1, 50000)\n",
      "(10, 50000)\n",
      "[5 0 4 ..., 8 4 8]\n"
     ]
    }
   ],
   "source": [
    "import numpy as np\n",
    "import matplotlib.pyplot as plt\n",
    "import pickle as cPickle\n",
    "import gzip\n",
    "\n",
    "data = gzip.open(\"mnist.pkl.gz\")\n",
    "train_data,  validation_data, test_data = cPickle.load(data,encoding=\"latin1\")\n",
    "X=train_data[0]\n",
    "X=X.T\n",
    "Y=train_data[1]\n",
    "Y=Y.T\n",
    "print(X.shape)\n",
    "print(Y.shape)\n",
    "Y=Y.reshape(1,Y.shape[0])\n",
    "print(Y.shape)\n",
    "Y=np.squeeze(Y)\n",
    "n_Y=np.max(Y)+1\n",
    "y=np.eye(n_Y)[Y]\n",
    "Y=y.T\n",
    "print(Y.shape)\n",
    "print(np.argmax(Y,axis=0))"
   ]
  },
  {
   "cell_type": "code",
   "execution_count": 2,
   "metadata": {
    "collapsed": true
   },
   "outputs": [],
   "source": [
    "def softmax(x):\n",
    "    t=np.exp(x)\n",
    "    q=np.sum(t,axis=0,keepdims=True)\n",
    "    return t/q"
   ]
  },
  {
   "cell_type": "code",
   "execution_count": 3,
   "metadata": {
    "collapsed": true
   },
   "outputs": [],
   "source": [
    "def initialise_parameters(X,Y):\n",
    "    W=np.random.randn(Y.shape[0],X.shape[0])*0.01\n",
    "    b=np.zeros((Y.shape[0],1))\n",
    "    return W,b"
   ]
  },
  {
   "cell_type": "code",
   "execution_count": 4,
   "metadata": {
    "collapsed": true
   },
   "outputs": [],
   "source": [
    "def forward_prop(W, b, X):\n",
    "    Z=np.dot(W,X)+b\n",
    "    A=softmax(Z)\n",
    "    return A"
   ]
  },
  {
   "cell_type": "code",
   "execution_count": 5,
   "metadata": {
    "collapsed": true
   },
   "outputs": [],
   "source": [
    "def compute_cost(Y, A):\n",
    "    m=Y.shape[1]\n",
    "    cost=np.sum(-1*(Y*np.log(A)))/Y.shape[1]\n",
    "    return cost"
   ]
  },
  {
   "cell_type": "code",
   "execution_count": 6,
   "metadata": {
    "collapsed": true
   },
   "outputs": [],
   "source": [
    "def update(W, A, X, Y, b, lr):\n",
    "    m = Y.shape[1]\n",
    "    dZ = A - Y\n",
    "    dW = np.dot(dZ, X.T) / m\n",
    "    db = np.sum(dZ, axis=1, keepdims=True) / m\n",
    "    W -= lr*dW\n",
    "    b -= lr*db\n",
    "    return W, b"
   ]
  },
  {
   "cell_type": "code",
   "execution_count": 7,
   "metadata": {
    "collapsed": true
   },
   "outputs": [],
   "source": [
    "def accuracy(X,W,b,Y):\n",
    "    Q=np.argmax(Y,axis=0)\n",
    "    R=forward_prop(W,b,X)\n",
    "    R=np.argmax(R,axis=0)\n",
    "    count=0\n",
    "    for i in range(Y.shape[1]):\n",
    "        if Q[i]==R[i]:\n",
    "            count+=1\n",
    "    accuracy=count/Y.shape[1]*100\n",
    "    return accuracy"
   ]
  },
  {
   "cell_type": "code",
   "execution_count": 8,
   "metadata": {
    "collapsed": true
   },
   "outputs": [],
   "source": [
    "def model(X,Y,num_iterations,learning_rate):\n",
    "    costs= []\n",
    "    acc =[]\n",
    "    W,b=initialise_parameters(X,Y)\n",
    "    for i in range(num_iterations):\n",
    "        A=forward_prop(W,b,X)\n",
    "        cost=compute_cost(Y,A)\n",
    "        acc.append(accuracy(X,W,b,Y))\n",
    "        W,b=update(W, A, X, Y, b,learning_rate)\n",
    "        costs.append(cost)\n",
    "        if i%100==0:\n",
    "            print(\"After iteration %i cost: %f and accuracy:%f\" %(i,cost,accuracy(X,W,b,Y)))\n",
    "    \n",
    "    return W,b,costs,acc"
   ]
  },
  {
   "cell_type": "code",
   "execution_count": 9,
   "metadata": {
    "collapsed": false
   },
   "outputs": [
    {
     "name": "stdout",
     "output_type": "stream",
     "text": [
      "After iteration 0 cost: 2.306910 and accuracy:36.924000\n",
      "After iteration 100 cost: 0.617589 and accuracy:85.940000\n",
      "After iteration 200 cost: 0.496520 and accuracy:87.606000\n",
      "After iteration 300 cost: 0.446617 and accuracy:88.386000\n",
      "After iteration 400 cost: 0.417839 and accuracy:88.916000\n",
      "After iteration 500 cost: 0.398539 and accuracy:89.312000\n",
      "After iteration 600 cost: 0.384426 and accuracy:89.560000\n",
      "After iteration 700 cost: 0.373512 and accuracy:89.788000\n",
      "After iteration 800 cost: 0.364735 and accuracy:89.964000\n",
      "After iteration 900 cost: 0.357470 and accuracy:90.138000\n"
     ]
    }
   ],
   "source": [
    "W,b,costs,accuracies=model(X,Y,num_iterations=1000,learning_rate=0.1)"
   ]
  },
  {
   "cell_type": "code",
   "execution_count": 10,
   "metadata": {
    "collapsed": false
   },
   "outputs": [
    {
     "data": {
      "image/png": "[encoded data removed]",
      "text/plain": [
       "<matplotlib.figure.Figure at 0x7f6cc4155b38>"
      ]
     },
     "metadata": {},
     "output_type": "display_data"
    },
    {
     "data": {
      "image/png": "[encoded data removed]",
      "text/plain": [
       "<matplotlib.figure.Figure at 0x7f6cc4155b00>"
      ]
     },
     "metadata": {},
     "output_type": "display_data"
    }
   ],
   "source": [
    "plt.plot(costs,color=\"red\")\n",
    "plt.xlabel('Number of Iterations')\n",
    "plt.ylabel('Cost')\n",
    "plt.title('Cost curve')\n",
    "plt.show()\n",
    "plt.plot(accuracies,color=\"blue\")\n",
    "plt.xlabel('Number of Iterations')\n",
    "plt.ylabel('Accuracy')\n",
    "plt.title('Accuracy curve')\n",
    "plt.show()"
   ]
  },
  {
   "cell_type": "code",
   "execution_count": 11,
   "metadata": {
    "collapsed": true
   },
   "outputs": [],
   "source": [
    "train_accuracy=accuracy(X,W,b,Y)"
   ]
  },
  {
   "cell_type": "code",
   "execution_count": 12,
   "metadata": {
    "collapsed": false
   },
   "outputs": [
    {
     "name": "stdout",
     "output_type": "stream",
     "text": [
      "Final Accuracy on training set : 90.274 %\n"
     ]
    }
   ],
   "source": [
    "print(\"Final Accuracy on training set :\",train_accuracy,\"%\")    "
   ]
  },
  {
   "cell_type": "code",
   "execution_count": 13,
   "metadata": {
    "collapsed": false
   },
   "outputs": [
    {
     "name": "stdout",
     "output_type": "stream",
     "text": [
      "(1, 10000)\n",
      "(10, 10000)\n",
      "[7 2 1 ..., 4 5 6]\n"
     ]
    }
   ],
   "source": [
    "X_test = test_data[0]\n",
    "X_test = X_test.T\n",
    "Y_test=test_data[1]\n",
    "Y_test=Y_test.T\n",
    "Y_test=Y_test.reshape(1,Y_test.shape[0])\n",
    "print(Y_test.shape)\n",
    "Y_test=np.squeeze(Y_test)\n",
    "n_Y=np.max(Y_test)+1\n",
    "y=np.eye(n_Y)[Y_test]\n",
    "Y_test=y.T\n",
    "print(Y_test.shape)\n",
    "print(np.argmax(Y_test,axis=0))"
   ]
  },
  {
   "cell_type": "code",
   "execution_count": 14,
   "metadata": {
    "collapsed": false
   },
   "outputs": [
    {
     "name": "stdout",
     "output_type": "stream",
     "text": [
      "Accuracy on Test set :  91.0 %\n"
     ]
    }
   ],
   "source": [
    "test_accuracy=accuracy(X_test,W,b,Y_test)\n",
    "print(\"Accuracy on Test set : \",test_accuracy,\"%\")"
   ]
  },
  {
   "cell_type": "code",
   "execution_count": 16,
   "metadata": {
    "collapsed": true
   },
   "outputs": [],
   "source": [
    "def predict(X,W,b):\n",
    "    A=forward_prop(W,b,X)\n",
    "    A=np.argmax(A,axis=0)\n",
    "    return A"
   ]
  },
  {
   "cell_type": "code",
   "execution_count": 21,
   "metadata": {
    "collapsed": false
   },
   "outputs": [
    {
     "name": "stdout",
     "output_type": "stream",
     "text": [
      "It is a  1\n"
     ]
    },
    {
     "name": "stderr",
     "output_type": "stream",
     "text": [
      "/home/rishi/anaconda3/lib/python3.6/site-packages/ipykernel/__main__.py:2: RuntimeWarning: overflow encountered in exp\n",
      "  from ipykernel import kernelapp as app\n",
      "/home/rishi/anaconda3/lib/python3.6/site-packages/ipykernel/__main__.py:4: RuntimeWarning: invalid value encountered in true_divide\n"
     ]
    },
    {
     "data": {
      "image/png": "[encoded data removed]",
      "text/plain": [
       "<matplotlib.figure.Figure at 0x7f6ce0a07518>"
      ]
     },
     "metadata": {},
     "output_type": "display_data"
    }
   ],
   "source": [
    "import scipy\n",
    "from scipy import ndimage\n",
    "from PIL import Image\n",
    "img = Image.open('1.jpg').convert('L')\n",
    "img.save('greyscale-1.png')\n",
    "fname=\"greyscale-1.png\"\n",
    "image = np.array(ndimage.imread(fname, flatten=False))\n",
    "#print(image.shape)\n",
    "image = scipy.misc.imresize(image, size=(28,28)).reshape((28*28,1))\n",
    "#print(image.shape)\n",
    "c=predict(image,W,b)\n",
    "print(\"It is a \",np.squeeze(c))\n",
    "plt.imshow(img)\n",
    "plt.show()"
   ]
  },
  {
   "cell_type": "code",
   "execution_count": 20,
   "metadata": {
    "collapsed": false
   },
   "outputs": [
    {
     "name": "stdout",
     "output_type": "stream",
     "text": [
      "It is a  2\n"
     ]
    },
    {
     "data": {
      "image/png": "[encoded data removed]",
      "text/plain": [
       "<matplotlib.figure.Figure at 0x7f6ce0a07cc0>"
      ]
     },
     "metadata": {},
     "output_type": "display_data"
    }
   ],
   "source": [
    "img = Image.open('2.jpg').convert('L')\n",
    "img.save('greyscale-2.png')\n",
    "fname=\"greyscale-2.png\"\n",
    "image = np.array(ndimage.imread(fname, flatten=False))\n",
    "#print(image.shape)\n",
    "image = scipy.misc.imresize(image, size=(28,28)).reshape((28*28,1))\n",
    "#print(image.shape)\n",
    "c=predict(image,W,b)\n",
    "print(\"It is a \",np.squeeze(c))\n",
    "plt.imshow(img)\n",
    "plt.show()"
   ]
  },
  {
   "cell_type": "code",
   "execution_count": null,
   "metadata": {
    "collapsed": true
   },
   "outputs": [],
   "source": []
  }
 ],
 "metadata": {
  "kernelspec": {
   "display_name": "Python 3",
   "language": "python",
   "name": "python3"
  },
  "language_info": {
   "codemirror_mode": {
    "name": "ipython",
    "version": 3
   },
   "file_extension": ".py",
   "mimetype": "text/x-python",
   "name": "python",
   "nbconvert_exporter": "python",
   "pygments_lexer": "ipython3",
   "version": "3.6.6"
  }
 },
 "nbformat": 4,
 "nbformat_minor": 2
}
