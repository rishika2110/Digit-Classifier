{
 "cells": [
  {
   "cell_type": "code",
   "execution_count": 1,
   "metadata": {
    "collapsed": true
   },
   "outputs": [],
   "source": [
    "import torch\n",
    "import torchvision\n",
    "import torchvision.transforms as transforms"
   ]
  },
  {
   "cell_type": "code",
   "execution_count": 2,
   "metadata": {
    "collapsed": true
   },
   "outputs": [],
   "source": [
    "batch_size=128\n",
    "num_classes = 10"
   ]
  },
  {
   "cell_type": "code",
   "execution_count": 3,
   "metadata": {
    "collapsed": true
   },
   "outputs": [],
   "source": [
    "DATA_PATH='/home/rishi/Desktop/pytorch'"
   ]
  },
  {
   "cell_type": "code",
   "execution_count": 4,
   "metadata": {
    "collapsed": true
   },
   "outputs": [],
   "source": [
    "trans=transforms.Compose([transforms.ToTensor(),transforms.Normalize((0.1307,),(0.3081,))])\n",
    "train_dataset=torchvision.datasets.MNIST(root=DATA_PATH,train=True,transform=trans)\n",
    "test_dataset=torchvision.datasets.MNIST(root=DATA_PATH,train=False,transform=trans)"
   ]
  },
  {
   "cell_type": "code",
   "execution_count": 5,
   "metadata": {
    "collapsed": true
   },
   "outputs": [],
   "source": [
    "import torch.nn as nn\n",
    "import torch.nn.functional as F"
   ]
  },
  {
   "cell_type": "code",
   "execution_count": 6,
   "metadata": {
    "collapsed": false
   },
   "outputs": [
    {
     "name": "stdout",
     "output_type": "stream",
     "text": [
      "469\n",
      "79\n"
     ]
    }
   ],
   "source": [
    "train_loader = torch.utils.data.DataLoader(dataset=train_dataset, batch_size=batch_size, shuffle=True)\n",
    "test_loader = torch.utils.data.DataLoader(dataset=test_dataset, batch_size=batch_size, shuffle=False)\n",
    "print(len(train_loader))\n",
    "print(len(test_loader))"
   ]
  },
  {
   "cell_type": "code",
   "execution_count": 7,
   "metadata": {
    "collapsed": false
   },
   "outputs": [],
   "source": [
    "class Net(nn.Module):\n",
    "    def __init__(self):\n",
    "        super(Net,self).__init__()\n",
    "        self.conv1=nn.Conv2d(1,16,5,padding=2)\n",
    "        self.pool1=nn.MaxPool2d(2,2)\n",
    "        self.conv2=nn.Conv2d(16,32,5,padding=2)\n",
    "        self.pool2=nn.MaxPool2d(2,2)\n",
    "        self.fc1=nn.Linear(7*7*32,120)\n",
    "        self.fc2=nn.Linear(120,84)\n",
    "        self.fc3=nn.Linear(84,10)\n",
    "        \n",
    "    def forward(self,x):\n",
    "        x=self.pool1(F.relu(self.conv1(x)))\n",
    "        x=self.pool2(F.relu(self.conv2(x)))\n",
    "        x=x.view(x.size(0),-1)\n",
    "        x=F.relu(self.fc1(x))\n",
    "        x=F.relu(self.fc2(x))\n",
    "        x=self.fc3(x)\n",
    "        return x"
   ]
  },
  {
   "cell_type": "code",
   "execution_count": 8,
   "metadata": {
    "collapsed": false
   },
   "outputs": [
    {
     "name": "stdout",
     "output_type": "stream",
     "text": [
      "Net(\n",
      "  (conv1): Conv2d(1, 16, kernel_size=(5, 5), stride=(1, 1), padding=(2, 2))\n",
      "  (pool1): MaxPool2d(kernel_size=2, stride=2, padding=0, dilation=1, ceil_mode=False)\n",
      "  (conv2): Conv2d(16, 32, kernel_size=(5, 5), stride=(1, 1), padding=(2, 2))\n",
      "  (pool2): MaxPool2d(kernel_size=2, stride=2, padding=0, dilation=1, ceil_mode=False)\n",
      "  (fc1): Linear(in_features=1568, out_features=120, bias=True)\n",
      "  (fc2): Linear(in_features=120, out_features=84, bias=True)\n",
      "  (fc3): Linear(in_features=84, out_features=10, bias=True)\n",
      ")\n"
     ]
    }
   ],
   "source": [
    "net=Net()\n",
    "print(net)"
   ]
  },
  {
   "cell_type": "code",
   "execution_count": 9,
   "metadata": {
    "collapsed": true
   },
   "outputs": [],
   "source": [
    "import torch.optim as optim\n",
    "criterion=nn.CrossEntropyLoss()\n",
    "optimizer=optim.Adam(net.parameters(),lr=0.001)"
   ]
  },
  {
   "cell_type": "code",
   "execution_count": 10,
   "metadata": {
    "collapsed": false
   },
   "outputs": [
    {
     "name": "stdout",
     "output_type": "stream",
     "text": [
      "[1 100] Loss=0.357203 Accuracy=91.406250\n",
      "[1 200] Loss=0.151398 Accuracy=94.531250\n",
      "[1 300] Loss=0.057213 Accuracy=97.656250\n",
      "[1 400] Loss=0.031816 Accuracy=99.218750\n",
      "[2 100] Loss=0.041490 Accuracy=98.437500\n",
      "[2 200] Loss=0.046299 Accuracy=99.218750\n",
      "[2 300] Loss=0.036663 Accuracy=99.218750\n",
      "[2 400] Loss=0.050328 Accuracy=98.437500\n",
      "[3 100] Loss=0.056603 Accuracy=97.656250\n",
      "[3 200] Loss=0.055060 Accuracy=97.656250\n",
      "[3 300] Loss=0.065720 Accuracy=98.437500\n",
      "[3 400] Loss=0.048457 Accuracy=99.218750\n",
      "[4 100] Loss=0.036769 Accuracy=97.656250\n",
      "[4 200] Loss=0.032634 Accuracy=99.218750\n",
      "[4 300] Loss=0.090610 Accuracy=96.875000\n",
      "[4 400] Loss=0.016334 Accuracy=99.218750\n",
      "[5 100] Loss=0.015022 Accuracy=100.000000\n",
      "[5 200] Loss=0.025100 Accuracy=99.218750\n",
      "[5 300] Loss=0.089474 Accuracy=99.218750\n",
      "[5 400] Loss=0.011465 Accuracy=99.218750\n"
     ]
    }
   ],
   "source": [
    "loss_ls=[]\n",
    "acc_ls=[]\n",
    "for epoch in range(5):\n",
    "    for i,data in enumerate(train_loader):\n",
    "        images,labels=data\n",
    "        outputs = net(images)\n",
    "        loss = criterion(outputs, labels)\n",
    "        loss_ls.append(loss.item())\n",
    "        optimizer.zero_grad()\n",
    "        loss.backward()\n",
    "        optimizer.step()\n",
    "        total = labels.size(0)\n",
    "        predicted = torch.max(outputs.data, 1)[1]\n",
    "        correct = (predicted == labels).sum().item()\n",
    "        accuracy=correct/total*100\n",
    "        acc_ls.append(accuracy)\n",
    "\n",
    "        \n",
    "        if (i+1)%100==0:\n",
    "            print('[%d %d] Loss=%f Accuracy=%f'%(epoch+1,i+1,loss.item(),accuracy))"
   ]
  },
  {
   "cell_type": "code",
   "execution_count": 11,
   "metadata": {
    "collapsed": false
   },
   "outputs": [
    {
     "name": "stdout",
     "output_type": "stream",
     "text": [
      "Test Acuracy=  98.92999999999999\n"
     ]
    }
   ],
   "source": [
    "with torch.no_grad():\n",
    "    correct=0\n",
    "    total=0\n",
    "    \n",
    "    for images,labels in test_loader:\n",
    "        outputs=net(images)\n",
    "\n",
    "        predictions=torch.max(outputs,1)[1]\n",
    "        correct+=(predictions==labels).sum().item()\n",
    "        total+=labels.size(0)\n",
    "accuracy=correct/total*100\n",
    "print(\"Test Acuracy= \",accuracy)    "
   ]
  },
  {
   "cell_type": "code",
   "execution_count": 12,
   "metadata": {
    "collapsed": false
   },
   "outputs": [
    {
     "data": {
      "image/png": "[encoded data removed]",
      "text/plain": [
       "<matplotlib.figure.Figure at 0x7f9ed99b2a90>"
      ]
     },
     "metadata": {},
     "output_type": "display_data"
    },
    {
     "data": {
      "image/png": "[encoded data removed]",
      "text/plain": [
       "<matplotlib.figure.Figure at 0x7f9ed731ea58>"
      ]
     },
     "metadata": {},
     "output_type": "display_data"
    }
   ],
   "source": [
    "import matplotlib.pyplot as plt\n",
    "plt.plot(loss_ls,color=\"orange\")\n",
    "plt.xlabel('Number of Iterations')\n",
    "plt.ylabel('Cost')\n",
    "plt.title('Cost curve')\n",
    "plt.show()\n",
    "plt.plot(acc_ls,color=\"green\")\n",
    "plt.xlabel('Number of Iterations')\n",
    "plt.ylabel('Accuracy')\n",
    "plt.title('Accuracy curve')\n",
    "plt.show()"
   ]
  },
  {
   "cell_type": "code",
   "execution_count": 14,
   "metadata": {
    "collapsed": false
   },
   "outputs": [
    {
     "data": {
      "image/png": "[encoded data removed]",
      "text/plain": [
       "<matplotlib.figure.Figure at 0x7f9e68013fd0>"
      ]
     },
     "metadata": {},
     "output_type": "display_data"
    },
    {
     "name": "stdout",
     "output_type": "stream",
     "text": [
      "It is a  2\n"
     ]
    }
   ],
   "source": [
    "from PIL import Image\n",
    "pil_image = Image.open('2(1).jpg')\n",
    "pil_tensor = transforms.ToTensor()\n",
    "plt.imshow(pil_image)\n",
    "plt.show()\n",
    "imag=pil_tensor(pil_image)\n",
    "#print(imag.size())\n",
    "imag=imag.unsqueeze(0)\n",
    "#print(imag.size())\n",
    "output=net(imag)\n",
    "prediction=torch.max(output,1)[1]\n",
    "print(\"It is a \",prediction.item())"
   ]
  },
  {
   "cell_type": "code",
   "execution_count": 15,
   "metadata": {
    "collapsed": false
   },
   "outputs": [
    {
     "data": {
      "image/png": "[encoded data removed]",
      "text/plain": [
       "<matplotlib.figure.Figure at 0x7f9e6813cb70>"
      ]
     },
     "metadata": {},
     "output_type": "display_data"
    },
    {
     "name": "stdout",
     "output_type": "stream",
     "text": [
      "It is a  3\n"
     ]
    }
   ],
   "source": [
    "from PIL import Image\n",
    "pil_image = Image.open('3.jpg')\n",
    "pil_tensor = transforms.ToTensor()\n",
    "pil_Greyscale=transforms.Grayscale()\n",
    "imag=pil_Greyscale(pil_image)\n",
    "plt.imshow(imag)\n",
    "plt.show()\n",
    "imag=pil_tensor(imag)\n",
    "#print(imag.size())\n",
    "imag=imag.unsqueeze(0)\n",
    "#print(imag.size())\n",
    "output=net(imag)\n",
    "prediction=torch.max(output,1)[1]\n",
    "print(\"It is a \",prediction.item())"
   ]
  },
  {
   "cell_type": "code",
   "execution_count": 16,
   "metadata": {
    "collapsed": false
   },
   "outputs": [
    {
     "data": {
      "image/png": "[encoded data removed]",
      "text/plain": [
       "<matplotlib.figure.Figure at 0x7f9e60db1668>"
      ]
     },
     "metadata": {},
     "output_type": "display_data"
    },
    {
     "name": "stdout",
     "output_type": "stream",
     "text": [
      "It is a  6\n"
     ]
    }
   ],
   "source": [
    "from PIL import Image\n",
    "image = Image.open('6(3).jpg')\n",
    "trans1=transforms.Grayscale()\n",
    "trans2=transforms.ToTensor()\n",
    "fig=trans1(image)\n",
    "plt.imshow(fig)\n",
    "plt.show()\n",
    "fig=trans2(fig)\n",
    "#fig=trans2(fig)\n",
    "#print(fig.size())\n",
    "fig=fig.unsqueeze(0)\n",
    "#print(fig.size())\n",
    "output=net(fig)\n",
    "prediction=torch.max(output,1)[1]\n",
    "print(\"It is a \",prediction.item())"
   ]
  },
  {
   "cell_type": "code",
   "execution_count": 17,
   "metadata": {
    "collapsed": false
   },
   "outputs": [
    {
     "data": {
      "image/png": "[encoded data removed]",
      "text/plain": [
       "<matplotlib.figure.Figure at 0x7f9e6813cba8>"
      ]
     },
     "metadata": {},
     "output_type": "display_data"
    },
    {
     "name": "stdout",
     "output_type": "stream",
     "text": [
      "It is a  5\n"
     ]
    }
   ],
   "source": [
    "from PIL import Image\n",
    "pil_image = Image.open('551.jpg')\n",
    "pil_tensor = transforms.ToTensor()\n",
    "pil_Greyscale=transforms.Grayscale()\n",
    "imag=pil_Greyscale(pil_image)\n",
    "plt.imshow(imag)\n",
    "plt.show()\n",
    "imag=pil_tensor(imag)\n",
    "#print(imag.size())\n",
    "imag=imag.unsqueeze(0)\n",
    "#print(imag.size())\n",
    "output=net(imag)\n",
    "prediction=torch.max(output,1)[1]\n",
    "print(\"It is a \",prediction.item())"
   ]
  },
  {
   "cell_type": "code",
   "execution_count": 18,
   "metadata": {
    "collapsed": false
   },
   "outputs": [
    {
     "data": {
      "image/png": "[encoded data removed]",
      "text/plain": [
       "<matplotlib.figure.Figure at 0x7f9e77349ac8>"
      ]
     },
     "metadata": {},
     "output_type": "display_data"
    },
    {
     "name": "stdout",
     "output_type": "stream",
     "text": [
      "It is a  0\n"
     ]
    }
   ],
   "source": [
    "from PIL import Image\n",
    "pil_image = Image.open('0(2).jpg')\n",
    "pil_tensor = transforms.ToTensor()\n",
    "pil_Greyscale=transforms.Grayscale()\n",
    "imag=pil_Greyscale(pil_image)\n",
    "plt.imshow(imag)\n",
    "plt.show()\n",
    "imag=pil_tensor(imag)\n",
    "#print(imag.size())\n",
    "imag=imag.unsqueeze(0)\n",
    "#print(imag.size())\n",
    "output=net(imag)\n",
    "prediction=torch.max(output,1)[1]\n",
    "print(\"It is a \",prediction.item())"
   ]
  },
  {
   "cell_type": "code",
   "execution_count": 19,
   "metadata": {
    "collapsed": false
   },
   "outputs": [
    {
     "data": {
      "image/png": "[encoded data removed]",
      "text/plain": [
       "<matplotlib.figure.Figure at 0x7f9e60c5bf98>"
      ]
     },
     "metadata": {},
     "output_type": "display_data"
    },
    {
     "name": "stdout",
     "output_type": "stream",
     "text": [
      "It is a  4\n"
     ]
    }
   ],
   "source": [
    "from PIL import Image\n",
    "pil_image = Image.open('41.jpg')\n",
    "pil_tensor = transforms.ToTensor()\n",
    "pil_Greyscale=transforms.Grayscale()\n",
    "imag=pil_Greyscale(pil_image)\n",
    "plt.imshow(imag)\n",
    "plt.show()\n",
    "imag=pil_tensor(imag)\n",
    "#print(imag.size())\n",
    "imag=imag.unsqueeze(0)\n",
    "#print(imag.size())\n",
    "output=net(imag)\n",
    "prediction=torch.max(output,1)[1]\n",
    "print(\"It is a \",prediction.item())"
   ]
  },
  {
   "cell_type": "code",
   "execution_count": 20,
   "metadata": {
    "collapsed": false
   },
   "outputs": [
    {
     "data": {
      "image/png": "[encoded data removed]",
      "text/plain": [
       "<matplotlib.figure.Figure at 0x7f9e680a9630>"
      ]
     },
     "metadata": {},
     "output_type": "display_data"
    },
    {
     "name": "stdout",
     "output_type": "stream",
     "text": [
      "It is a  8\n"
     ]
    }
   ],
   "source": [
    "from PIL import Image\n",
    "pil_image = Image.open('8(1).jpg')\n",
    "pil_tensor = transforms.ToTensor()\n",
    "pil_Greyscale=transforms.Grayscale()\n",
    "imag=pil_Greyscale(pil_image)\n",
    "plt.imshow(imag)\n",
    "plt.show()\n",
    "imag=pil_tensor(imag)\n",
    "#print(imag.size())\n",
    "imag=imag.unsqueeze(0)\n",
    "#print(imag.size())\n",
    "output=net(imag)\n",
    "prediction=torch.max(output,1)[1]\n",
    "print(\"It is a \",prediction.item())"
   ]
  },
  {
   "cell_type": "code",
   "execution_count": 21,
   "metadata": {
    "collapsed": false
   },
   "outputs": [
    {
     "data": {
      "image/png": "[encoded data removed]",
      "text/plain": [
       "<matplotlib.figure.Figure at 0x7f9e6809de80>"
      ]
     },
     "metadata": {},
     "output_type": "display_data"
    },
    {
     "name": "stdout",
     "output_type": "stream",
     "text": [
      "It is a  9\n"
     ]
    }
   ],
   "source": [
    "from PIL import Image\n",
    "pil_image = Image.open('9111.jpg')\n",
    "pil_tensor = transforms.ToTensor()\n",
    "pil_Greyscale=transforms.Grayscale()\n",
    "imag=pil_Greyscale(pil_image)\n",
    "plt.imshow(imag)\n",
    "plt.show()\n",
    "imag=pil_tensor(imag)\n",
    "#print(imag.size())\n",
    "imag=imag.unsqueeze(0)\n",
    "#print(imag.size())\n",
    "output=net(imag)\n",
    "prediction=torch.max(output,1)[1]\n",
    "print(\"It is a \",prediction.item())"
   ]
  },
  {
   "cell_type": "code",
   "execution_count": null,
   "metadata": {
    "collapsed": false
   },
   "outputs": [],
   "source": []
  }
 ],
 "metadata": {
  "kernelspec": {
   "display_name": "Python 3",
   "language": "python",
   "name": "python3"
  },
  "language_info": {
   "codemirror_mode": {
    "name": "ipython",
    "version": 3
   },
   "file_extension": ".py",
   "mimetype": "text/x-python",
   "name": "python",
   "nbconvert_exporter": "python",
   "pygments_lexer": "ipython3",
   "version": "3.6.6"
  }
 },
 "nbformat": 4,
 "nbformat_minor": 2
}
